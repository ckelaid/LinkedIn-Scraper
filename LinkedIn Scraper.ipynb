{
 "cells": [
  {
   "cell_type": "markdown",
   "metadata": {},
   "source": [
    "# LinkedIn Scraper"
   ]
  },
  {
   "cell_type": "markdown",
   "metadata": {},
   "source": [
    "Link to code: https://levelup.gitconnected.com/linkedin-scrapper-a3e6790099b5"
   ]
  },
  {
   "cell_type": "code",
   "execution_count": 2,
   "metadata": {},
   "outputs": [],
   "source": [
    "# Dependencies\n",
    "from selenium import webdriver\n",
    "from selenium.webdriver.common.keys import Keys\n",
    "import requests\n",
    "from bs4 import BeautifulSoup\n",
    "import re\n",
    "import time\n",
    "import json"
   ]
  },
  {
   "cell_type": "code",
   "execution_count": 3,
   "metadata": {},
   "outputs": [],
   "source": [
    "# Set driver path\n",
    "path = '/Users/carlos/Documents/My Working Directory/chromedriver' #ChromeDriver path\n",
    "# Initialize chromedriver to driver variable\n",
    "browser = webdriver.Chrome(path)"
   ]
  },
  {
   "cell_type": "code",
   "execution_count": 4,
   "metadata": {},
   "outputs": [],
   "source": [
    "#Function to log into LinkedIn\n",
    "def log_In():\n",
    "    #Open LinkedIn login page\n",
    "    browser.get('https://www.linkedin.com/login?fromSignIn=true&trk=guest_homepage-basic_nav-header-signin')\n",
    "\n",
    "    #Ask user to enter login info\n",
    "    User_username = input('Please enter your LinkedIn username:\\n')\n",
    "    User_password = input('Please enter your LinkedIn password:\\n')\n",
    "\n",
    "    #Enter login info:\n",
    "    elementID = browser.find_element_by_id('username')\n",
    "    elementID.send_keys(User_username)\n",
    "\n",
    "    elementID = browser.find_element_by_id('password')\n",
    "    elementID.send_keys(User_password)\n",
    "\n",
    "    elementID.submit()#Clicks login button"
   ]
  },
  {
   "cell_type": "code",
   "execution_count": 5,
   "metadata": {},
   "outputs": [
    {
     "name": "stdout",
     "output_type": "stream",
     "text": [
      "Please enter your LinkedIn username:\n",
      "ckelaid@g.clemson.edu\n",
      "Please enter your LinkedIn password:\n",
      "ck6977418029\n"
     ]
    }
   ],
   "source": [
    "# ckelaid@g.clemson.edu\n",
    "# ck6977418029\n",
    "log_In()"
   ]
  },
  {
   "cell_type": "code",
   "execution_count": 10,
   "metadata": {},
   "outputs": [],
   "source": [
    "#Function to search for a job title, and scrape the job\n",
    "#information of the first page of job listings \n",
    "job_titles = []\n",
    "def Search_for_job():\n",
    "\n",
    "    #Ask user to input job type he wishes to search for (data science internships)\n",
    "    jobID = input('What job do you want to search for?\\n') \n",
    "    \n",
    "    #Split jobID in list of strings\n",
    "    which_jobID = jobID.split()\n",
    "    print(which_jobID)\n",
    "    # Want add '%20' in-place of whitespace to search for see_all_page link\n",
    "    space = '%20'\n",
    "    see_all_jobID = ''\n",
    "    for i in range(len(which_jobID)):\n",
    "        see_all_jobID = see_all_jobID+which_jobID[i]+space\n",
    "\n",
    "    print(see_all_jobID)\n",
    "    see_all_jobID = see_all_jobID[:-3] #Removes the %20 at the\n",
    "    print(see_all_jobID)\n",
    "\n",
    "    # see_all *Job-Title-Page*\n",
    "    see_all_page = browser.get('https://www.linkedin.com/jobs/search/?keywords='+see_all_jobID)\n",
    "    \n",
    "    # Store in r the see_all_page link to use bs to scrape\n",
    "    r = requests.get('https://www.linkedin.com/jobs/search/?keywords='+see_all_jobID)\n",
    "    #Parse html using bs\n",
    "    soup = BeautifulSoup(r.text, 'html.parser')\n",
    "\n",
    "    # Using regex method, we grab all the <a> & class=\"base-card__full-link\"\n",
    "    # text in Job-title page\n",
    "    regex = re.compile(r'[/]([a-z]|[A-Z])\\w+')\n",
    "    results = soup.find_all('a', {'class':\"base-card__full-link\"}, href = regex)\n",
    "    \n",
    "    # Iterating through our results array to grab desired links and store them\n",
    "    # in job_titles\n",
    "    #job_titles = []\n",
    "    for i in range(len(results)-1):\n",
    "        job_titles.append(results[i].attrs['href'])\n",
    "    \n",
    "    #return job_titles"
   ]
  },
  {
   "cell_type": "code",
   "execution_count": 11,
   "metadata": {},
   "outputs": [
    {
     "name": "stdout",
     "output_type": "stream",
     "text": [
      "What job do you want to search for?\n",
      "data science 2022\n",
      "['data', 'science', '2022']\n",
      "data%20science%202022%20\n",
      "data%20science%202022\n"
     ]
    }
   ],
   "source": [
    "# data science internships 2022\n",
    "# data science 2022\n",
    "Search_for_job()"
   ]
  },
  {
   "cell_type": "code",
   "execution_count": 9,
   "metadata": {},
   "outputs": [
    {
     "data": {
      "text/plain": [
       "21"
      ]
     },
     "execution_count": 9,
     "metadata": {},
     "output_type": "execute_result"
    }
   ],
   "source": [
    "len(job_titles)"
   ]
  },
  {
   "cell_type": "code",
   "execution_count": 36,
   "metadata": {
    "collapsed": true
   },
   "outputs": [
    {
     "data": {
      "text/plain": [
       "['https://www.linkedin.com/jobs/view/assistant-and-assistant-associate-professor-data-science-and-analytics-at-kennesaw-state-university-school-of-data-science-and-analytics-2838545212?refId=FL1WEsZ29nx4TYJ9fV87qg%3D%3D&trackingId=rEK1JwN2ESJh7OhGeijvNw%3D%3D&position=1&pageNum=0&trk=public_jobs_jserp-result_search-card',\n",
       " 'https://www.linkedin.com/jobs/view/data-scientist-machine-learning-intern-prototypes-at-primer-ai-2872119547?refId=FL1WEsZ29nx4TYJ9fV87qg%3D%3D&trackingId=MH75O3x8j6PrvH8PFpy9kg%3D%3D&position=2&pageNum=0&trk=public_jobs_jserp-result_search-card',\n",
       " 'https://www.linkedin.com/jobs/view/natural-resource-data-scientist-at-ecotrust-2874382581?refId=FL1WEsZ29nx4TYJ9fV87qg%3D%3D&trackingId=Ntx0OhKbHlEcOAXg9Gc0sA%3D%3D&position=3&pageNum=0&trk=public_jobs_jserp-result_search-card',\n",
       " 'https://www.linkedin.com/jobs/view/data-science-intern-summer-2022-at-reddit-inc-2818883615?refId=FL1WEsZ29nx4TYJ9fV87qg%3D%3D&trackingId=97qNxoddEeLa28Hd1h0xaA%3D%3D&position=4&pageNum=0&trk=public_jobs_jserp-result_search-card',\n",
       " 'https://www.linkedin.com/jobs/view/computer-vision-engineer-at-skyscout-group-ai-based-video-solution-2872173219?refId=FL1WEsZ29nx4TYJ9fV87qg%3D%3D&trackingId=K915jAD4%2FgW6g1JfKMIJnQ%3D%3D&position=5&pageNum=0&trk=public_jobs_jserp-result_search-card',\n",
       " 'https://www.linkedin.com/jobs/view/new-grad-data-science-summer-2022-at-blend360-2869671465?refId=FL1WEsZ29nx4TYJ9fV87qg%3D%3D&trackingId=FFiGkkbNHqrPofvaWxXUZQ%3D%3D&position=6&pageNum=0&trk=public_jobs_jserp-result_search-card',\n",
       " 'https://www.linkedin.com/jobs/view/data-science-intern-remote-friendly-at-vouch-insurance-2870017109?refId=FL1WEsZ29nx4TYJ9fV87qg%3D%3D&trackingId=dfENHlnAJoj5UZUV8BWpGw%3D%3D&position=7&pageNum=0&trk=public_jobs_jserp-result_search-card',\n",
       " 'https://www.linkedin.com/jobs/view/new-grad-data-science-summer-2022-at-blend360-2867227068?refId=FL1WEsZ29nx4TYJ9fV87qg%3D%3D&trackingId=atKoJsEW%2BzbGOXpd%2FSfn%2BA%3D%3D&position=8&pageNum=0&trk=public_jobs_jserp-result_search-card',\n",
       " 'https://www.linkedin.com/jobs/view/data-science-intern-at-roku-inc-2862301815?refId=FL1WEsZ29nx4TYJ9fV87qg%3D%3D&trackingId=AyJlInGSIhU6glSRqNpUOg%3D%3D&position=9&pageNum=0&trk=public_jobs_jserp-result_search-card',\n",
       " 'https://www.linkedin.com/jobs/view/data-science-intern-at-roku-inc-2862304597?refId=FL1WEsZ29nx4TYJ9fV87qg%3D%3D&trackingId=oQcdRVCt4PFZ46ccyQ2PNA%3D%3D&position=10&pageNum=0&trk=public_jobs_jserp-result_search-card',\n",
       " 'https://www.linkedin.com/jobs/view/data-research-analyst-at-metro-forecasting-models-2864830971?refId=FL1WEsZ29nx4TYJ9fV87qg%3D%3D&trackingId=nM%2FIV7ZbY%2FikYj%2Bss9gowQ%3D%3D&position=11&pageNum=0&trk=public_jobs_jserp-result_search-card',\n",
       " 'https://www.linkedin.com/jobs/view/2022-summer-data-science-intern-at-ai-camp-2871471091?refId=FL1WEsZ29nx4TYJ9fV87qg%3D%3D&trackingId=%2F%2BEsFxaOczEOMdanoYJRXQ%3D%3D&position=12&pageNum=0&trk=public_jobs_jserp-result_search-card',\n",
       " 'https://www.linkedin.com/jobs/view/data-science-intern-at-roku-inc-2862302740?refId=FL1WEsZ29nx4TYJ9fV87qg%3D%3D&trackingId=BKn%2FcoxhSc5zviApK0mglg%3D%3D&position=13&pageNum=0&trk=public_jobs_jserp-result_search-card',\n",
       " 'https://www.linkedin.com/jobs/view/data-science-intern-summer-2022-at-handshake-2867754975?refId=FL1WEsZ29nx4TYJ9fV87qg%3D%3D&trackingId=gLJCBK%2BBzk32uvL%2B0QfZ%2FA%3D%3D&position=14&pageNum=0&trk=public_jobs_jserp-result_search-card',\n",
       " 'https://www.linkedin.com/jobs/view/data-science-summer-2022-internship-at-blend360-2867220017?refId=FL1WEsZ29nx4TYJ9fV87qg%3D%3D&trackingId=micQPMeho5B%2FFGFxsk8yZg%3D%3D&position=15&pageNum=0&trk=public_jobs_jserp-result_search-card',\n",
       " 'https://www.linkedin.com/jobs/view/summer-internship-data-scientist-consumer-platform-at-spotify-2849510474?refId=FL1WEsZ29nx4TYJ9fV87qg%3D%3D&trackingId=lAECohDnnN8ru9PG5JvSrQ%3D%3D&position=16&pageNum=0&trk=public_jobs_jserp-result_search-card',\n",
       " 'https://www.linkedin.com/jobs/view/startup-data-analyst-scientist-at-monicat-data-2873971372?refId=FL1WEsZ29nx4TYJ9fV87qg%3D%3D&trackingId=JKPA1lK2r0NUI23cwrux%2Fg%3D%3D&position=17&pageNum=0&trk=public_jobs_jserp-result_search-card',\n",
       " 'https://www.linkedin.com/jobs/view/data-analyst-at-south-alamo-regional-alliance-for-the-homeless-2864994261?refId=FL1WEsZ29nx4TYJ9fV87qg%3D%3D&trackingId=Bw9CudyR%2FeqLXdhyHlqlpw%3D%3D&position=18&pageNum=0&trk=public_jobs_jserp-result_search-card',\n",
       " 'https://www.linkedin.com/jobs/view/2022-data-science-new-grad-product-analytics-at-zoom-2863190195?refId=FL1WEsZ29nx4TYJ9fV87qg%3D%3D&trackingId=Jrmv6poYFrOHYGwDGmwxRQ%3D%3D&position=19&pageNum=0&trk=public_jobs_jserp-result_search-card',\n",
       " 'https://www.linkedin.com/jobs/view/data-science-intern-at-grainger-2870014378?refId=FL1WEsZ29nx4TYJ9fV87qg%3D%3D&trackingId=PfiaOS2vTPoCGPXvRgUzLQ%3D%3D&position=20&pageNum=0&trk=public_jobs_jserp-result_search-card',\n",
       " 'https://www.linkedin.com/jobs/view/data-science-analyst-%23-21-12983-at-genesis10-2869270539?refId=FL1WEsZ29nx4TYJ9fV87qg%3D%3D&trackingId=BBc2kL8IaajmvN%2Bu3DMl8A%3D%3D&position=21&pageNum=0&trk=public_jobs_jserp-result_search-card']"
      ]
     },
     "execution_count": 36,
     "metadata": {},
     "output_type": "execute_result"
    }
   ],
   "source": [
    "job_titles"
   ]
  },
  {
   "cell_type": "code",
   "execution_count": 10,
   "metadata": {},
   "outputs": [],
   "source": [
    "# The function that takes our job-title links as an input\n",
    "# The input (aa) is the job_titles array\n",
    "Date_Posted = []\n",
    "Job_Info = []\n",
    "    \n",
    "def get_job_info(aa):    \n",
    "    for a in aa:\n",
    "        title_info = browser.get(a)#Sends me on job_titles[0]'s job-title individual page\n",
    "        # Parse info on individual job_title page\n",
    "        src = requests.get(a)\n",
    "        soup2 = BeautifulSoup(src.text, 'html.parser')\n",
    "        # Parse json code block\n",
    "        data = soup2.find_all('script', {'type':'application/ld+json'})[0].text\n",
    "        info = json.loads(data)\n",
    "        # Add date job was posted to list\n",
    "        Date_Posted.append(info['datePosted'][0:10])\n",
    "        # Parse job_description to get rid of embedded tags\n",
    "        soup3 = BeautifulSoup(info['description'])\n",
    "        soup4 = BeautifulSoup(soup3.text, 'html.parser')\n",
    "        # Replace <br> tags by white space\n",
    "        for e in soup4.find_all('br'):\n",
    "            e.replace_with(' ')\n",
    "        \n",
    "        #Get only text back without imbedded tags & store it in Job_Info list/array\n",
    "        Job_Info.append(soup4.text)"
   ]
  },
  {
   "cell_type": "code",
   "execution_count": 11,
   "metadata": {},
   "outputs": [
    {
     "ename": "IndexError",
     "evalue": "list index out of range",
     "output_type": "error",
     "traceback": [
      "\u001b[0;31m---------------------------------------------------------------------------\u001b[0m",
      "\u001b[0;31mIndexError\u001b[0m                                Traceback (most recent call last)",
      "\u001b[0;32m<ipython-input-11-654bc34eb203>\u001b[0m in \u001b[0;36m<module>\u001b[0;34m\u001b[0m\n\u001b[1;32m      1\u001b[0m \u001b[0;31m# Calling the function\u001b[0m\u001b[0;34m\u001b[0m\u001b[0;34m\u001b[0m\u001b[0;34m\u001b[0m\u001b[0m\n\u001b[0;32m----> 2\u001b[0;31m \u001b[0mget_job_info\u001b[0m\u001b[0;34m(\u001b[0m\u001b[0mjob_titles\u001b[0m\u001b[0;34m)\u001b[0m\u001b[0;34m\u001b[0m\u001b[0;34m\u001b[0m\u001b[0m\n\u001b[0m",
      "\u001b[0;32m<ipython-input-10-b2fe1ed4d46b>\u001b[0m in \u001b[0;36mget_job_info\u001b[0;34m(aa)\u001b[0m\n\u001b[1;32m     11\u001b[0m         \u001b[0msoup2\u001b[0m \u001b[0;34m=\u001b[0m \u001b[0mBeautifulSoup\u001b[0m\u001b[0;34m(\u001b[0m\u001b[0msrc\u001b[0m\u001b[0;34m.\u001b[0m\u001b[0mtext\u001b[0m\u001b[0;34m,\u001b[0m \u001b[0;34m'html.parser'\u001b[0m\u001b[0;34m)\u001b[0m\u001b[0;34m\u001b[0m\u001b[0;34m\u001b[0m\u001b[0m\n\u001b[1;32m     12\u001b[0m         \u001b[0;31m# Parse json code block\u001b[0m\u001b[0;34m\u001b[0m\u001b[0;34m\u001b[0m\u001b[0;34m\u001b[0m\u001b[0m\n\u001b[0;32m---> 13\u001b[0;31m         \u001b[0mdata\u001b[0m \u001b[0;34m=\u001b[0m \u001b[0msoup2\u001b[0m\u001b[0;34m.\u001b[0m\u001b[0mfind_all\u001b[0m\u001b[0;34m(\u001b[0m\u001b[0;34m'script'\u001b[0m\u001b[0;34m,\u001b[0m \u001b[0;34m{\u001b[0m\u001b[0;34m'type'\u001b[0m\u001b[0;34m:\u001b[0m\u001b[0;34m'application/ld+json'\u001b[0m\u001b[0;34m}\u001b[0m\u001b[0;34m)\u001b[0m\u001b[0;34m[\u001b[0m\u001b[0;36m0\u001b[0m\u001b[0;34m]\u001b[0m\u001b[0;34m.\u001b[0m\u001b[0mtext\u001b[0m\u001b[0;34m\u001b[0m\u001b[0;34m\u001b[0m\u001b[0m\n\u001b[0m\u001b[1;32m     14\u001b[0m         \u001b[0minfo\u001b[0m \u001b[0;34m=\u001b[0m \u001b[0mjson\u001b[0m\u001b[0;34m.\u001b[0m\u001b[0mloads\u001b[0m\u001b[0;34m(\u001b[0m\u001b[0mdata\u001b[0m\u001b[0;34m)\u001b[0m\u001b[0;34m\u001b[0m\u001b[0;34m\u001b[0m\u001b[0m\n\u001b[1;32m     15\u001b[0m         \u001b[0;31m# Add date job was posted to list\u001b[0m\u001b[0;34m\u001b[0m\u001b[0;34m\u001b[0m\u001b[0;34m\u001b[0m\u001b[0m\n",
      "\u001b[0;31mIndexError\u001b[0m: list index out of range"
     ]
    }
   ],
   "source": [
    "# Calling the function\n",
    "get_job_info(job_titles)"
   ]
  },
  {
   "cell_type": "code",
   "execution_count": 12,
   "metadata": {},
   "outputs": [
    {
     "data": {
      "text/plain": [
       "18"
      ]
     },
     "execution_count": 12,
     "metadata": {},
     "output_type": "execute_result"
    }
   ],
   "source": [
    "len(Job_Info)"
   ]
  },
  {
   "cell_type": "markdown",
   "metadata": {},
   "source": [
    "### Store scraped information into pandas data frame"
   ]
  },
  {
   "cell_type": "code",
   "execution_count": 13,
   "metadata": {},
   "outputs": [],
   "source": [
    "# Dependencies\n",
    "import numpy as np\n",
    "import pandas as pd"
   ]
  },
  {
   "cell_type": "code",
   "execution_count": 14,
   "metadata": {},
   "outputs": [
    {
     "data": {
      "text/html": [
       "<div>\n",
       "<style scoped>\n",
       "    .dataframe tbody tr th:only-of-type {\n",
       "        vertical-align: middle;\n",
       "    }\n",
       "\n",
       "    .dataframe tbody tr th {\n",
       "        vertical-align: top;\n",
       "    }\n",
       "\n",
       "    .dataframe thead th {\n",
       "        text-align: right;\n",
       "    }\n",
       "</style>\n",
       "<table border=\"1\" class=\"dataframe\">\n",
       "  <thead>\n",
       "    <tr style=\"text-align: right;\">\n",
       "      <th></th>\n",
       "      <th>Job Information</th>\n",
       "      <th>Job Posted on</th>\n",
       "    </tr>\n",
       "  </thead>\n",
       "  <tbody>\n",
       "    <tr>\n",
       "      <th>0</th>\n",
       "      <td>Kennesaw State University is now accepting app...</td>\n",
       "      <td>2021-12-16</td>\n",
       "    </tr>\n",
       "    <tr>\n",
       "      <th>1</th>\n",
       "      <td>The world is changing at an accelerating rate....</td>\n",
       "      <td>2022-01-08</td>\n",
       "    </tr>\n",
       "    <tr>\n",
       "      <th>2</th>\n",
       "      <td>Position Title: Natural Resource Data Scientis...</td>\n",
       "      <td>2022-01-11</td>\n",
       "    </tr>\n",
       "    <tr>\n",
       "      <th>3</th>\n",
       "      <td>Reddit is a network of more than 100,000 commu...</td>\n",
       "      <td>2021-12-25</td>\n",
       "    </tr>\n",
       "    <tr>\n",
       "      <th>4</th>\n",
       "      <td>About the jobJob Description: We’re looking fo...</td>\n",
       "      <td>2022-01-11</td>\n",
       "    </tr>\n",
       "  </tbody>\n",
       "</table>\n",
       "</div>"
      ],
      "text/plain": [
       "                                     Job Information Job Posted on\n",
       "0  Kennesaw State University is now accepting app...    2021-12-16\n",
       "1  The world is changing at an accelerating rate....    2022-01-08\n",
       "2  Position Title: Natural Resource Data Scientis...    2022-01-11\n",
       "3  Reddit is a network of more than 100,000 commu...    2021-12-25\n",
       "4  About the jobJob Description: We’re looking fo...    2022-01-11"
      ]
     },
     "execution_count": 14,
     "metadata": {},
     "output_type": "execute_result"
    }
   ],
   "source": [
    "# Store all extracted job info in Pandas dataframe\n",
    "df = pd.DataFrame(np.array(Job_Info), columns=['Job Information'])\n",
    "# Let's add the Date_Posted as well as a column in the dataframe\n",
    "df['Job Posted on'] = Date_Posted\n",
    "df.head()"
   ]
  },
  {
   "cell_type": "code",
   "execution_count": 15,
   "metadata": {},
   "outputs": [
    {
     "data": {
      "text/html": [
       "<div>\n",
       "<style scoped>\n",
       "    .dataframe tbody tr th:only-of-type {\n",
       "        vertical-align: middle;\n",
       "    }\n",
       "\n",
       "    .dataframe tbody tr th {\n",
       "        vertical-align: top;\n",
       "    }\n",
       "\n",
       "    .dataframe thead th {\n",
       "        text-align: right;\n",
       "    }\n",
       "</style>\n",
       "<table border=\"1\" class=\"dataframe\">\n",
       "  <thead>\n",
       "    <tr style=\"text-align: right;\">\n",
       "      <th></th>\n",
       "      <th>Job Information</th>\n",
       "      <th>Job Posted on</th>\n",
       "    </tr>\n",
       "  </thead>\n",
       "  <tbody>\n",
       "    <tr>\n",
       "      <th>13</th>\n",
       "      <td>From the start, we’ve made it our mission to b...</td>\n",
       "      <td>2022-01-08</td>\n",
       "    </tr>\n",
       "    <tr>\n",
       "      <th>14</th>\n",
       "      <td>Company Description  Blend360 is a world class...</td>\n",
       "      <td>2022-01-07</td>\n",
       "    </tr>\n",
       "    <tr>\n",
       "      <th>15</th>\n",
       "      <td>We are looking for Data Scientist Interns to #...</td>\n",
       "      <td>2022-01-11</td>\n",
       "    </tr>\n",
       "    <tr>\n",
       "      <th>16</th>\n",
       "      <td>Monicat Data is a women-owned, women lead comp...</td>\n",
       "      <td>2022-01-10</td>\n",
       "    </tr>\n",
       "    <tr>\n",
       "      <th>17</th>\n",
       "      <td>Job Title: Data Analyst Department/Group:  Sys...</td>\n",
       "      <td>2022-01-03</td>\n",
       "    </tr>\n",
       "  </tbody>\n",
       "</table>\n",
       "</div>"
      ],
      "text/plain": [
       "                                      Job Information Job Posted on\n",
       "13  From the start, we’ve made it our mission to b...    2022-01-08\n",
       "14  Company Description  Blend360 is a world class...    2022-01-07\n",
       "15  We are looking for Data Scientist Interns to #...    2022-01-11\n",
       "16  Monicat Data is a women-owned, women lead comp...    2022-01-10\n",
       "17  Job Title: Data Analyst Department/Group:  Sys...    2022-01-03"
      ]
     },
     "execution_count": 15,
     "metadata": {},
     "output_type": "execute_result"
    }
   ],
   "source": [
    "df.tail()"
   ]
  },
  {
   "cell_type": "code",
   "execution_count": null,
   "metadata": {},
   "outputs": [],
   "source": []
  }
 ],
 "metadata": {
  "kernelspec": {
   "display_name": "Python 3",
   "language": "python",
   "name": "python3"
  },
  "language_info": {
   "codemirror_mode": {
    "name": "ipython",
    "version": 3
   },
   "file_extension": ".py",
   "mimetype": "text/x-python",
   "name": "python",
   "nbconvert_exporter": "python",
   "pygments_lexer": "ipython3",
   "version": "3.7.6"
  }
 },
 "nbformat": 4,
 "nbformat_minor": 4
}
