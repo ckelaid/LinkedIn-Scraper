{
 "cells": [
  {
   "cell_type": "markdown",
   "metadata": {},
   "source": [
    "# LinkedIn Scraper"
   ]
  },
  {
   "cell_type": "code",
   "execution_count": 1,
   "metadata": {},
   "outputs": [],
   "source": [
    "# Dependencies\n",
    "from selenium import webdriver\n",
    "from selenium.webdriver.common.keys import Keys\n",
    "import requests\n",
    "from bs4 import BeautifulSoup\n",
    "import re\n",
    "import time\n",
    "import json\n",
    "import getpass"
   ]
  },
  {
   "cell_type": "code",
   "execution_count": 2,
   "metadata": {},
   "outputs": [],
   "source": [
    "# Set driver path\n",
    "path = '/Users/carlos/Documents/My Working Directory/chromedriver' #ChromeDriver path\n",
    "# Initialize chromedriver to driver variable\n",
    "browser = webdriver.Chrome(path)"
   ]
  },
  {
   "cell_type": "code",
   "execution_count": 3,
   "metadata": {},
   "outputs": [],
   "source": [
    "#Function to log into LinkedIn\n",
    "def log_In():\n",
    "    #Open LinkedIn login page\n",
    "    browser.get('https://www.linkedin.com/login?fromSignIn=true&trk=guest_homepage-basic_nav-header-signin')\n",
    "\n",
    "    #Ask user to enter login info\n",
    "    #User_username = input('Please enter your LinkedIn username:\\n')\n",
    "    #User_password = input('Please enter your LinkedIn password:\\n')\n",
    "    User_username = getpass.getpass(\"Please enter your LinkedIn username:\\n\")\n",
    "    User_password = getpass.getpass(\"Please enter your LinkedIn password:\\n\")\n",
    "\n",
    "    #Enter login info:\n",
    "    elementID = browser.find_element_by_id('username')\n",
    "    elementID.send_keys(User_username)\n",
    "\n",
    "    elementID = browser.find_element_by_id('password')\n",
    "    elementID.send_keys(User_password)\n",
    "\n",
    "    elementID.submit()#Clicks login button"
   ]
  },
  {
   "cell_type": "code",
   "execution_count": 4,
   "metadata": {},
   "outputs": [
    {
     "name": "stdout",
     "output_type": "stream",
     "text": [
      "Please enter your LinkedIn username:\n",
      "········\n",
      "Please enter your LinkedIn password:\n",
      "········\n"
     ]
    }
   ],
   "source": [
    "# Calling log_In()\n",
    "log_In()"
   ]
  },
  {
   "cell_type": "code",
   "execution_count": 5,
   "metadata": {},
   "outputs": [],
   "source": [
    "#Function to search for a job title, and scrape the job\n",
    "#information of the first page of job listings \n",
    "job_titles = []\n",
    "def Search_for_job():\n",
    "\n",
    "    #Ask user to input job type he wishes to search for (data science internships)\n",
    "    jobID = input('What job do you want to search for?\\n') \n",
    "    \n",
    "    #Split jobID in list of strings\n",
    "    which_jobID = jobID.split()\n",
    "    \n",
    "    # Want add '%20' in-place of whitespace to search for see_all_page link\n",
    "    space = '%20'\n",
    "    see_all_jobID = ''\n",
    "    for i in range(len(which_jobID)):\n",
    "        see_all_jobID = see_all_jobID+which_jobID[i]+space\n",
    "\n",
    "    \n",
    "    see_all_jobID = see_all_jobID[:-3] #Removes the %20 at the\n",
    "    \n",
    "\n",
    "    # see_all *Job-Title-Page*\n",
    "    see_all_page = browser.get('https://www.linkedin.com/jobs/search/?keywords='+see_all_jobID)\n",
    "    \n",
    "    # Store in r the see_all_page link to use bs to scrape\n",
    "    r = requests.get('https://www.linkedin.com/jobs/search/?keywords='+see_all_jobID)\n",
    "    #Parse html using bs\n",
    "    soup = BeautifulSoup(r.text, 'html.parser')\n",
    "\n",
    "    # Using regex method, we grab all the <a> & class=\"base-card__full-link\"\n",
    "    # text in Job-title page\n",
    "    regex = re.compile(r'[/]([a-z]|[A-Z])\\w+')\n",
    "    results = soup.find_all('a', {'class':\"base-card__full-link\"}, href = regex)\n",
    "    \n",
    "    # Iterating through our results array to grab desired links and store them\n",
    "    # in job_titles\n",
    "    #job_titles = []\n",
    "    for i in range(len(results)-1):\n",
    "        job_titles.append(results[i].attrs['href'])\n",
    "    \n",
    "    #return job_titles"
   ]
  },
  {
   "cell_type": "code",
   "execution_count": 6,
   "metadata": {},
   "outputs": [
    {
     "name": "stdout",
     "output_type": "stream",
     "text": [
      "What job do you want to search for?\n",
      "data science internships\n"
     ]
    }
   ],
   "source": [
    "# searching for 'data science internships' \n",
    "Search_for_job()"
   ]
  },
  {
   "cell_type": "code",
   "execution_count": 54,
   "metadata": {},
   "outputs": [
    {
     "data": {
      "text/plain": [
       "24"
      ]
     },
     "execution_count": 54,
     "metadata": {},
     "output_type": "execute_result"
    }
   ],
   "source": [
    "len(job_titles) # 24 job posts on the 1st page"
   ]
  },
  {
   "cell_type": "code",
   "execution_count": 55,
   "metadata": {},
   "outputs": [],
   "source": [
    "# The function that takes our job-title links as an input\n",
    "# The input (aa) is the job_titles array\n",
    "Date_Posted = []\n",
    "Job_Info = []\n",
    "    \n",
    "def get_job_info(aa):    \n",
    "    for a in aa:\n",
    "        time.sleep(5) #Avoid Too Many Requests Error\n",
    "        # Parse info on individual job_title page\n",
    "        src = requests.get(a)\n",
    "        soup2 = BeautifulSoup(src.text, 'html.parser')\n",
    "        # Parse json code block\n",
    "        data = soup2.find_all('script', {'type':'application/ld+json'})[0].text\n",
    "        info = json.loads(data)\n",
    "        # Add date job was posted to list\n",
    "        Date_Posted.append(info['datePosted'][0:10])\n",
    "        # Parse job_description to get rid of embedded tags\n",
    "        soup3 = BeautifulSoup(info['description'])\n",
    "        soup4 = BeautifulSoup(soup3.text, 'html.parser')\n",
    "        # Replace <br> tags by white space\n",
    "        for e in soup4.find_all('br'):\n",
    "            e.replace_with(' ')\n",
    "        \n",
    "        #Get only text back without imbedded tags & store it in Job_Info list/array\n",
    "        Job_Info.append(soup4.text)"
   ]
  },
  {
   "cell_type": "code",
   "execution_count": 56,
   "metadata": {},
   "outputs": [],
   "source": [
    "# Calling the function\n",
    "get_job_info(job_titles)"
   ]
  },
  {
   "cell_type": "code",
   "execution_count": 57,
   "metadata": {},
   "outputs": [
    {
     "data": {
      "text/plain": [
       "24"
      ]
     },
     "execution_count": 57,
     "metadata": {},
     "output_type": "execute_result"
    }
   ],
   "source": [
    "len(Job_Info) # 24 job descriptions"
   ]
  },
  {
   "cell_type": "markdown",
   "metadata": {},
   "source": [
    "### Store scraped information into pandas data frame"
   ]
  },
  {
   "cell_type": "code",
   "execution_count": 58,
   "metadata": {},
   "outputs": [],
   "source": [
    "# Dependencies\n",
    "import numpy as np\n",
    "import pandas as pd"
   ]
  },
  {
   "cell_type": "code",
   "execution_count": 59,
   "metadata": {},
   "outputs": [
    {
     "data": {
      "text/html": [
       "<div>\n",
       "<style scoped>\n",
       "    .dataframe tbody tr th:only-of-type {\n",
       "        vertical-align: middle;\n",
       "    }\n",
       "\n",
       "    .dataframe tbody tr th {\n",
       "        vertical-align: top;\n",
       "    }\n",
       "\n",
       "    .dataframe thead th {\n",
       "        text-align: right;\n",
       "    }\n",
       "</style>\n",
       "<table border=\"1\" class=\"dataframe\">\n",
       "  <thead>\n",
       "    <tr style=\"text-align: right;\">\n",
       "      <th></th>\n",
       "      <th>Job Information</th>\n",
       "      <th>Job Posted on</th>\n",
       "    </tr>\n",
       "  </thead>\n",
       "  <tbody>\n",
       "    <tr>\n",
       "      <th>0</th>\n",
       "      <td>With over 35 nationalities and a range of back...</td>\n",
       "      <td>2022-01-21</td>\n",
       "    </tr>\n",
       "    <tr>\n",
       "      <th>1</th>\n",
       "      <td>Responsibilities  Our Data Science and Analyti...</td>\n",
       "      <td>2022-01-14</td>\n",
       "    </tr>\n",
       "    <tr>\n",
       "      <th>2</th>\n",
       "      <td>GoHealth is looking for a Data Scientist Inter...</td>\n",
       "      <td>2022-01-15</td>\n",
       "    </tr>\n",
       "    <tr>\n",
       "      <th>3</th>\n",
       "      <td>Join our awesome team as a Data Science Intern...</td>\n",
       "      <td>2022-01-19</td>\n",
       "    </tr>\n",
       "    <tr>\n",
       "      <th>4</th>\n",
       "      <td>To Apply Please Visit   https://lever.careerst...</td>\n",
       "      <td>2022-01-20</td>\n",
       "    </tr>\n",
       "  </tbody>\n",
       "</table>\n",
       "</div>"
      ],
      "text/plain": [
       "                                     Job Information Job Posted on\n",
       "0  With over 35 nationalities and a range of back...    2022-01-21\n",
       "1  Responsibilities  Our Data Science and Analyti...    2022-01-14\n",
       "2  GoHealth is looking for a Data Scientist Inter...    2022-01-15\n",
       "3  Join our awesome team as a Data Science Intern...    2022-01-19\n",
       "4  To Apply Please Visit   https://lever.careerst...    2022-01-20"
      ]
     },
     "execution_count": 59,
     "metadata": {},
     "output_type": "execute_result"
    }
   ],
   "source": [
    "# Store all extracted job info in Pandas dataframe\n",
    "df = pd.DataFrame(np.array(Job_Info), columns=['Job Information'])\n",
    "# Let's add the Date_Posted as well as a column in the dataframe\n",
    "df['Job Posted on'] = Date_Posted\n",
    "df.head()"
   ]
  },
  {
   "cell_type": "code",
   "execution_count": 60,
   "metadata": {},
   "outputs": [
    {
     "data": {
      "text/html": [
       "<div>\n",
       "<style scoped>\n",
       "    .dataframe tbody tr th:only-of-type {\n",
       "        vertical-align: middle;\n",
       "    }\n",
       "\n",
       "    .dataframe tbody tr th {\n",
       "        vertical-align: top;\n",
       "    }\n",
       "\n",
       "    .dataframe thead th {\n",
       "        text-align: right;\n",
       "    }\n",
       "</style>\n",
       "<table border=\"1\" class=\"dataframe\">\n",
       "  <thead>\n",
       "    <tr style=\"text-align: right;\">\n",
       "      <th></th>\n",
       "      <th>Job Information</th>\n",
       "      <th>Job Posted on</th>\n",
       "    </tr>\n",
       "  </thead>\n",
       "  <tbody>\n",
       "    <tr>\n",
       "      <th>19</th>\n",
       "      <td>Job Description  As a science-based healthcare...</td>\n",
       "      <td>2022-01-21</td>\n",
       "    </tr>\n",
       "    <tr>\n",
       "      <th>20</th>\n",
       "      <td>Every month, millions of people across the wor...</td>\n",
       "      <td>2022-01-17</td>\n",
       "    </tr>\n",
       "    <tr>\n",
       "      <th>21</th>\n",
       "      <td>Date Posted:   2021-10-28-07:00  Country:   Un...</td>\n",
       "      <td>2021-12-19</td>\n",
       "    </tr>\n",
       "    <tr>\n",
       "      <th>22</th>\n",
       "      <td>With over a million customers trusting PayJoy,...</td>\n",
       "      <td>2022-01-26</td>\n",
       "    </tr>\n",
       "    <tr>\n",
       "      <th>23</th>\n",
       "      <td>We are looking for Machine Learning Interns to...</td>\n",
       "      <td>2022-01-07</td>\n",
       "    </tr>\n",
       "  </tbody>\n",
       "</table>\n",
       "</div>"
      ],
      "text/plain": [
       "                                      Job Information Job Posted on\n",
       "19  Job Description  As a science-based healthcare...    2022-01-21\n",
       "20  Every month, millions of people across the wor...    2022-01-17\n",
       "21  Date Posted:   2021-10-28-07:00  Country:   Un...    2021-12-19\n",
       "22  With over a million customers trusting PayJoy,...    2022-01-26\n",
       "23  We are looking for Machine Learning Interns to...    2022-01-07"
      ]
     },
     "execution_count": 60,
     "metadata": {},
     "output_type": "execute_result"
    }
   ],
   "source": [
    "df.tail()"
   ]
  }
 ],
 "metadata": {
  "kernelspec": {
   "display_name": "Python 3",
   "language": "python",
   "name": "python3"
  },
  "language_info": {
   "codemirror_mode": {
    "name": "ipython",
    "version": 3
   },
   "file_extension": ".py",
   "mimetype": "text/x-python",
   "name": "python",
   "nbconvert_exporter": "python",
   "pygments_lexer": "ipython3",
   "version": "3.7.6"
  }
 },
 "nbformat": 4,
 "nbformat_minor": 4
}
